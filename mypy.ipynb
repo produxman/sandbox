{
 "cells": [
  {
   "cell_type": "markdown",
   "metadata": {},
   "source": [
    "# MyPy Notebook"
   ]
  },
  {
   "cell_type": "markdown",
   "metadata": {},
   "source": [
    "### Variables"
   ]
  },
  {
   "cell_type": "code",
   "execution_count": 24,
   "metadata": {},
   "outputs": [
    {
     "name": "stdout",
     "output_type": "stream",
     "text": [
      "25\n"
     ]
    }
   ],
   "source": [
    "#Integers\n",
    "x = 5\n",
    "#Strings\n",
    "name = 'Ryan'\n",
    "fullname = name + ' Reynolds'\n",
    "moan = (name + '! ') * 4\n",
    "\n",
    "#Booleans\n",
    "statement = True\n",
    "idol = False\n",
    "\n",
    "#Lists\n",
    "my_list = [1,2,3,4,'list','of','strings',False,['babushka','dolls']]\n",
    "\n",
    "#Sets\n",
    "my_set = {1,1,2,3,4,4,4,4,5}\n",
    "\n",
    "#Tuples -- Memory efficient, good for storing little things (e.g. coordinates)\n",
    "my_tuple = (1,2,3)\n",
    "\n",
    "#Dictionaries\n",
    "my_dictionary = {\n",
    "    'apple' : 'A red fruit',\n",
    "    'bear' : 'A scary animal'\n",
    "}"
   ]
  },
  {
   "cell_type": "markdown",
   "metadata": {},
   "source": [
    "### Functions"
   ]
  },
  {
   "cell_type": "code",
   "execution_count": 32,
   "metadata": {},
   "outputs": [
    {
     "name": "stdout",
     "output_type": "stream",
     "text": [
      "5\n"
     ]
    },
    {
     "data": {
      "text/plain": [
       "'wtf?'"
      ]
     },
     "execution_count": 32,
     "metadata": {},
     "output_type": "execute_result"
    }
   ],
   "source": [
    "print(x) #prints a variable\n",
    "type(name) #prints the type of the variable\n",
    "len(my_list) #prints the length of a given list\n",
    "my_list.append(4) #appends an element to the list\n",
    "my_dictionary['apple'] #lookup within dictionary\n",
    "\n",
    "def squareMe(val):\n",
    "    return val ** 2\n",
    "squareMe(5)\n",
    "\n",
    "def moanMyName(val):\n",
    "    if type(val) == str:    \n",
    "        return (val + '! ') * 3\n",
    "    else:\n",
    "        return 'wtf?'\n",
    "moanMyName(3)"
   ]
  },
  {
   "cell_type": "code",
   "execution_count": null,
   "metadata": {},
   "outputs": [],
   "source": []
  }
 ],
 "metadata": {
  "kernelspec": {
   "display_name": ".venv",
   "language": "python",
   "name": "python3"
  },
  "language_info": {
   "codemirror_mode": {
    "name": "ipython",
    "version": 3
   },
   "file_extension": ".py",
   "mimetype": "text/x-python",
   "name": "python",
   "nbconvert_exporter": "python",
   "pygments_lexer": "ipython3",
   "version": "3.9.6"
  },
  "orig_nbformat": 4
 },
 "nbformat": 4,
 "nbformat_minor": 2
}
