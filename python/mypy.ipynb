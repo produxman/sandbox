{
 "cells": [
  {
   "cell_type": "markdown",
   "metadata": {},
   "source": [
    "# MyPy Notebook"
   ]
  },
  {
   "cell_type": "markdown",
   "metadata": {},
   "source": [
    "---"
   ]
  },
  {
   "cell_type": "markdown",
   "metadata": {},
   "source": [
    "## Notes"
   ]
  },
  {
   "cell_type": "markdown",
   "metadata": {},
   "source": [
    "### Variables"
   ]
  },
  {
   "cell_type": "code",
   "execution_count": null,
   "metadata": {},
   "outputs": [],
   "source": [
    "#Integers\n",
    "x = 5\n",
    "#Strings\n",
    "name = 'Ryan'\n",
    "fullname = name + ' Reynolds'\n",
    "moan = (name + '! ') * 4\n",
    "\n",
    "#Booleans\n",
    "statement = True\n",
    "idol = False\n",
    "\n",
    "#Lists\n",
    "my_list = [1,2,3,4,'list','of','strings',False,['babushka','dolls']]\n",
    "\n",
    "#Sets\n",
    "my_set = {1,1,2,3,4,4,4,4,5}\n",
    "\n",
    "#Tuples -- Memory efficient, good for storing little things (e.g. coordinates)\n",
    "my_tuple = (1,2,3)\n",
    "\n",
    "#Dictionaries\n",
    "my_dictionary = {\n",
    "    'apple' : 'A red fruit',\n",
    "    'bear' : 'A scary animal'\n",
    "}\n",
    "\n",
    "#Bytes\n",
    "data = bytes(4) #bytes are immutable\n",
    "emoji = bytes('😀','utf-8')\n",
    "#modifiable bytes\n",
    "emojis = bytearray('😀','utf-8')\n",
    "emojis[3] = int('85',16)\n",
    "emojis"
   ]
  },
  {
   "cell_type": "markdown",
   "metadata": {},
   "source": [
    "### Functions"
   ]
  },
  {
   "cell_type": "code",
   "execution_count": null,
   "metadata": {},
   "outputs": [],
   "source": [
    "print(x) #prints a variable\n",
    "type(name) #prints the type of the variable\n",
    "len(my_list) #prints the length of a given list\n",
    "my_list.append(4) #appends an element to the list\n",
    "my_dictionary['apple'] #lookup within dictionary\n",
    "emoji.decode('utf-8') #decodes the byte data\n",
    "\n",
    "def squareMe(val):\n",
    "    return val ** 2\n",
    "squareMe(5)\n",
    "\n",
    "def moanMyName(val):\n",
    "    if type(val) == str:    \n",
    "        return (val + '! ') * 3\n",
    "    else:\n",
    "        return 'wtf?'\n",
    "moanMyName(3)"
   ]
  },
  {
   "cell_type": "markdown",
   "metadata": {},
   "source": [
    "### Classes"
   ]
  },
  {
   "cell_type": "code",
   "execution_count": null,
   "metadata": {},
   "outputs": [],
   "source": [
    "class Dog:\n",
    "    def __init__(self, name):\n",
    "        self.name = name\n",
    "        self.legs = 4\n",
    "    def speak(self):\n",
    "        print(self.name + ', here boy!')\n",
    "        print('Bark! '* 4)\n",
    "\n",
    "my_dog = Dog('Rex')\n",
    "my_dog.speak()"
   ]
  },
  {
   "cell_type": "markdown",
   "metadata": {},
   "source": [
    "----"
   ]
  },
  {
   "cell_type": "markdown",
   "metadata": {},
   "source": [
    "## Challenges"
   ]
  },
  {
   "cell_type": "markdown",
   "metadata": {},
   "source": [
    "### Challenge 1 - Factorials"
   ]
  },
  {
   "cell_type": "code",
   "execution_count": null,
   "metadata": {},
   "outputs": [],
   "source": [
    "def factorial(num):\n",
    "    if type(num) is int and num > 0:\n",
    "        i = 0\n",
    "        f = 1\n",
    "        while i < num:\n",
    "            i = i + 1\n",
    "            f = f * i\n",
    "        return f\n",
    "\n",
    "    else:\n",
    "        return None\n",
    "\n",
    "factorial(5)    "
   ]
  },
  {
   "cell_type": "markdown",
   "metadata": {},
   "source": [
    "### Challenge 2 - Converting hex to decimal"
   ]
  },
  {
   "cell_type": "code",
   "execution_count": null,
   "metadata": {},
   "outputs": [],
   "source": [
    "hexNumbers = {\n",
    "    '0': 0, '1': 1, '2': 2, '3': 3, '4': 4, '5': 5, '6': 6, '7': 7, '8': 8, '9': 9,\n",
    "    'A': 10, 'B': 11, 'C': 12, 'D': 13, 'E': 14, 'F': 15\n",
    "}\n",
    "\n",
    "def hexToDec(hexNum):\n",
    "    decNum = 0\n",
    "    exponent = len(hexNum)-1\n",
    "    for char in hexNum:\n",
    "        if char not in hexNumbers:\n",
    "            return 'wtf?'\n",
    "            break  \n",
    "        decNum += hexNumbers[char] * (16**exponent)\n",
    "        exponent -=1\n",
    "    return decNum\n",
    "\n",
    "hexToDec('AAAAAAAAA')"
   ]
  }
 ],
 "metadata": {
  "kernelspec": {
   "display_name": ".venv",
   "language": "python",
   "name": "python3"
  },
  "language_info": {
   "codemirror_mode": {
    "name": "ipython",
    "version": 3
   },
   "file_extension": ".py",
   "mimetype": "text/x-python",
   "name": "python",
   "nbconvert_exporter": "python",
   "pygments_lexer": "ipython3",
   "version": "3.9.6"
  },
  "orig_nbformat": 4
 },
 "nbformat": 4,
 "nbformat_minor": 2
}
