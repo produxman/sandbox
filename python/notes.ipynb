{
 "cells": [
  {
   "cell_type": "markdown",
   "metadata": {},
   "source": [
    "# Welcome to the Produxman World!"
   ]
  },
  {
   "cell_type": "markdown",
   "metadata": {},
   "source": [
    "## In Progress"
   ]
  },
  {
   "cell_type": "markdown",
   "metadata": {},
   "source": [
    "* https://roadmap.sh/backend?r=backend-beginner\n",
    "* [https://www.youtube.com/watch?v=ix9cRaBkVe0 (32:43)](https://youtu.be/ix9cRaBkVe0?si=94nvIkb7w9B5X_vl&t=1963)"
   ]
  },
  {
   "cell_type": "markdown",
   "metadata": {},
   "source": [
    "### Variables"
   ]
  },
  {
   "cell_type": "code",
   "execution_count": 28,
   "metadata": {},
   "outputs": [],
   "source": [
    "#Integers\n",
    "x = 5\n",
    "\n",
    "#Floats\n",
    "pi = 3.14\n",
    "\n",
    "#Strings\n",
    "firstName = 'Sherif'\n",
    "lastName = 'Shalaby'\n",
    "fullName = firstName + ' ' + lastName\n",
    "moanMyName = (firstName + '! ') * 4\n",
    "introduceMyself = 'Hello, My name is ' + fullName\n",
    "\n",
    "#Booleans\n",
    "Earth = True\n",
    "Ghost = False\n",
    "\n",
    "#Lists\n",
    "my_list = [1,2,3,4,'list','of','strings',False,['babushka','dolls']]\n",
    "\n",
    "#Sets\n",
    "my_set = {1,1,2,3,4,4,4,4,5}\n",
    "\n",
    "#Tuples -- Memory efficient, good for storing little things (e.g. coordinates)\n",
    "my_tuple = (1,2,3)\n",
    "\n",
    "#Dictionaries\n",
    "my_dictionary = {\n",
    "    'apple' : 'A red fruit',\n",
    "    'bear' : 'A scary animal'\n",
    "}\n",
    "\n",
    "#Bytes\n",
    "data = bytes(4) #bytes are immutable\n",
    "emoji = bytes('😀','utf-8')\n",
    "\n",
    "#modifiable bytes\n",
    "emojis = bytearray('😀','utf-8')\n",
    "emojis[3] = int('85',16)"
   ]
  },
  {
   "cell_type": "markdown",
   "metadata": {},
   "source": [
    "### Working with Variables"
   ]
  },
  {
   "cell_type": "code",
   "execution_count": 60,
   "metadata": {},
   "outputs": [
    {
     "name": "stdout",
     "output_type": "stream",
     "text": [
      "3\n",
      "Hello Sherif\n",
      "True\n"
     ]
    }
   ],
   "source": [
    "#Output to Console\n",
    "x=3\n",
    "print(x) \n",
    "\n",
    "#Accept User Input\n",
    "name = input(\"What's your name?\")\n",
    "print(f\"Hello, {name}\")\n",
    "\n",
    "#Retrieve Variable Type\n",
    "type(name)\n",
    "\n",
    "#Typecast Variables: Convert variable from a type to another - useful when handling user input\n",
    "age = 35.5\n",
    "age_str = str(age)\n",
    "age_int = int(age)\n",
    "age_bool = bool(age)\n",
    "\n",
    "#Concatenate Variables\n",
    "age_str_concat = age_str + \"1\"\n",
    "age_int_concat = age + 1\n"
   ]
  },
  {
   "cell_type": "markdown",
   "metadata": {},
   "source": [
    "### Functions"
   ]
  },
  {
   "cell_type": "code",
   "execution_count": 71,
   "metadata": {},
   "outputs": [
    {
     "data": {
      "text/plain": [
       "'Oh God! Sherif! Sherif! Sherif! '"
      ]
     },
     "execution_count": 71,
     "metadata": {},
     "output_type": "execute_result"
    }
   ],
   "source": [
    "def moanMyName(val):\n",
    "    if type(val) == str:    \n",
    "        return ('Oh God! ' + (val + '! ') * 3)\n",
    "    else:\n",
    "        return 'wtf?'\n",
    "    \n",
    "def basicQuestion():\n",
    "    name = input(\"What's your name?\")\n",
    "    print(f\"Hello, {name}\")\n",
    "    answer = input(\"What's the answer to life, the universe, and everything?: \")\n",
    "    if int(answer) == 42:\n",
    "      return bool(answer)\n",
    "    else:\n",
    "      return \"Nope\"\n",
    "    \n",
    "moanMyName(\"Sherif\")"
   ]
  }
 ],
 "metadata": {
  "kernelspec": {
   "display_name": "Python 3",
   "language": "python",
   "name": "python3"
  },
  "language_info": {
   "codemirror_mode": {
    "name": "ipython",
    "version": 3
   },
   "file_extension": ".py",
   "mimetype": "text/x-python",
   "name": "python",
   "nbconvert_exporter": "python",
   "pygments_lexer": "ipython3",
   "version": "3.11.4"
  },
  "orig_nbformat": 4
 },
 "nbformat": 4,
 "nbformat_minor": 2
}
