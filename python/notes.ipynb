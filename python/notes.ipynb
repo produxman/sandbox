{
 "cells": [
  {
   "cell_type": "markdown",
   "metadata": {},
   "source": [
    "# Python"
   ]
  },
  {
   "cell_type": "markdown",
   "metadata": {},
   "source": [
    "---"
   ]
  },
  {
   "cell_type": "markdown",
   "metadata": {},
   "source": [
    "## Notes"
   ]
  },
  {
   "cell_type": "markdown",
   "metadata": {},
   "source": [
    "# Welcome to the Produxman World!"
   ]
  },
  {
   "cell_type": "markdown",
   "metadata": {},
   "source": [
    "### Variables"
   ]
  },
  {
   "cell_type": "code",
   "execution_count": null,
   "metadata": {},
   "outputs": [],
   "source": [
    "#Integers\n",
    "x = 5\n",
    "#Strings\n",
    "name = 'Ryan'\n",
    "fullname = name + ' Reynolds'\n",
    "moan = (name + '! ') * 4\n",
    "\n",
    "#Booleans\n",
    "statement = True\n",
    "idol = False\n",
    "\n",
    "#Lists\n",
    "my_list = [1,2,3,4,'list','of','strings',False,['babushka','dolls']]\n",
    "\n",
    "#Sets\n",
    "my_set = {1,1,2,3,4,4,4,4,5}\n",
    "\n",
    "#Tuples -- Memory efficient, good for storing little things (e.g. coordinates)\n",
    "my_tuple = (1,2,3)\n",
    "\n",
    "#Dictionaries\n",
    "my_dictionary = {\n",
    "    'apple' : 'A red fruit',\n",
    "    'bear' : 'A scary animal'\n",
    "}\n",
    "\n",
    "#Bytes\n",
    "data = bytes(4) #bytes are immutable\n",
    "emoji = bytes('😀','utf-8')\n",
    "#modifiable bytes\n",
    "emojis = bytearray('😀','utf-8')\n",
    "emojis[3] = int('85',16)\n",
    "emojis"
   ]
  },
  {
   "cell_type": "markdown",
   "metadata": {},
   "source": [
    "### Functions"
   ]
  },
  {
   "cell_type": "code",
   "execution_count": null,
   "metadata": {},
   "outputs": [],
   "source": [
    "print(x) #prints a variable\n",
    "type(name) #prints the type of the variable\n",
    "len(my_list) #prints the length of a given list\n",
    "my_list.append(4) #appends an element to the list\n",
    "my_dictionary['apple'] #lookup within dictionary\n",
    "emoji.decode('utf-8') #decodes the byte data\n",
    "\n",
    "def squareMe(val):\n",
    "    return val ** 2\n",
    "squareMe(5)\n",
    "\n",
    "def moanMyName(val):\n",
    "    if type(val) == str:    \n",
    "        return (val + '! ') * 3\n",
    "    else:\n",
    "        return 'wtf?'\n",
    "moanMyName(3)"
   ]
  },
  {
   "cell_type": "markdown",
   "metadata": {},
   "source": [
    "### Classes"
   ]
  },
  {
   "cell_type": "code",
   "execution_count": null,
   "metadata": {},
   "outputs": [],
   "source": [
    "class Dog:\n",
    "    def __init__(self, name):\n",
    "        self.name = name\n",
    "        self.legs = 4\n",
    "    def speak(self):\n",
    "        print(self.name + ', here boy!')\n",
    "        print('Bark! '* 4)\n",
    "\n",
    "my_dog = Dog('Rex')\n",
    "my_dog.speak()"
   ]
  },
  {
   "cell_type": "markdown",
   "metadata": {},
   "source": [
    "----"
   ]
  }
 ],
 "metadata": {
  "kernelspec": {
   "display_name": ".venv",
   "language": "python",
   "name": "python3"
  },
  "language_info": {
   "codemirror_mode": {
    "name": "ipython",
    "version": 3
   },
   "file_extension": ".py",
   "mimetype": "text/x-python",
   "name": "python",
   "nbconvert_exporter": "python",
   "pygments_lexer": "ipython3",
   "version": "3.11.4"
  },
  "orig_nbformat": 4
 },
 "nbformat": 4,
 "nbformat_minor": 2
}
